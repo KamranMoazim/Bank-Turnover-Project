{
  "nbformat": 4,
  "nbformat_minor": 0,
  "metadata": {
    "colab": {
      "name": "Bank Turnover Dataset.ipynb",
      "provenance": [],
      "collapsed_sections": []
    },
    "kernelspec": {
      "name": "python3",
      "display_name": "Python 3"
    },
    "accelerator": "GPU"
  },
  "cells": [
    {
      "cell_type": "code",
      "metadata": {
        "id": "8ERUKHzIgQIG"
      },
      "source": [
        "! pip install -q kaggle"
      ],
      "execution_count": 1,
      "outputs": []
    },
    {
      "cell_type": "code",
      "metadata": {
        "colab": {
          "resources": {
            "http://localhost:8080/nbextensions/google.colab/files.js": {
              "data": "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",
              "ok": true,
              "headers": [
                [
                  "content-type",
                  "application/javascript"
                ]
              ],
              "status": 200,
              "status_text": ""
            }
          },
          "base_uri": "https://localhost:8080/",
          "height": 90
        },
        "id": "Jnw2dWMVgQLG",
        "outputId": "460d0a2d-32d5-4168-e4c6-482e9733bfbe"
      },
      "source": [
        "from google.colab import files\r\n",
        "files.upload()"
      ],
      "execution_count": 2,
      "outputs": [
        {
          "output_type": "display_data",
          "data": {
            "text/html": [
              "\n",
              "     <input type=\"file\" id=\"files-3014599b-f56d-4b69-a377-24bcd28db201\" name=\"files[]\" multiple disabled\n",
              "        style=\"border:none\" />\n",
              "     <output id=\"result-3014599b-f56d-4b69-a377-24bcd28db201\">\n",
              "      Upload widget is only available when the cell has been executed in the\n",
              "      current browser session. Please rerun this cell to enable.\n",
              "      </output>\n",
              "      <script src=\"/nbextensions/google.colab/files.js\"></script> "
            ],
            "text/plain": [
              "<IPython.core.display.HTML object>"
            ]
          },
          "metadata": {
            "tags": []
          }
        },
        {
          "output_type": "stream",
          "text": [
            "Saving kaggle.json to kaggle.json\n"
          ],
          "name": "stdout"
        },
        {
          "output_type": "execute_result",
          "data": {
            "text/plain": [
              "{'kaggle.json': b'{\"username\":\"kamrannaseer\",\"key\":\"86bfee909777b6a9a32c48d76ca589d5\"}'}"
            ]
          },
          "metadata": {
            "tags": []
          },
          "execution_count": 2
        }
      ]
    },
    {
      "cell_type": "code",
      "metadata": {
        "id": "nvr8bGKcgQON"
      },
      "source": [
        "! mkdir ~/.kaggle"
      ],
      "execution_count": 3,
      "outputs": []
    },
    {
      "cell_type": "code",
      "metadata": {
        "id": "-lajJFjrgQRQ"
      },
      "source": [
        "! cp kaggle.json ~/.kaggle/"
      ],
      "execution_count": 4,
      "outputs": []
    },
    {
      "cell_type": "code",
      "metadata": {
        "id": "EWZ2to2vgQUK"
      },
      "source": [
        "! chmod 600 ~/.kaggle/kaggle.json"
      ],
      "execution_count": 5,
      "outputs": []
    },
    {
      "cell_type": "code",
      "metadata": {
        "colab": {
          "base_uri": "https://localhost:8080/"
        },
        "id": "3JDFjoQzhIDF",
        "outputId": "d8bd3cbe-0560-417c-aa5b-824cd6693ffd"
      },
      "source": [
        "!kaggle datasets download -d barelydedicated/bank-customer-churn-modeling"
      ],
      "execution_count": 6,
      "outputs": [
        {
          "output_type": "stream",
          "text": [
            "Downloading bank-customer-churn-modeling.zip to /content\n",
            "\r  0% 0.00/262k [00:00<?, ?B/s]\n",
            "\r100% 262k/262k [00:00<00:00, 36.5MB/s]\n"
          ],
          "name": "stdout"
        }
      ]
    },
    {
      "cell_type": "code",
      "metadata": {
        "id": "FtIya4cVAi8s"
      },
      "source": [
        "!mkdir bank-customer-churn-modeling"
      ],
      "execution_count": 7,
      "outputs": []
    },
    {
      "cell_type": "code",
      "metadata": {
        "colab": {
          "base_uri": "https://localhost:8080/"
        },
        "id": "KBH2kjiag2f2",
        "outputId": "baefdb1c-d659-4807-af15-abb09c9bd5aa"
      },
      "source": [
        "! unzip bank-customer-churn-modeling.zip -d bank-customer-churn-modeling"
      ],
      "execution_count": 8,
      "outputs": [
        {
          "output_type": "stream",
          "text": [
            "Archive:  bank-customer-churn-modeling.zip\n",
            "  inflating: bank-customer-churn-modeling/Churn_Modelling.csv  \n"
          ],
          "name": "stdout"
        }
      ]
    },
    {
      "cell_type": "code",
      "metadata": {
        "colab": {
          "base_uri": "https://localhost:8080/"
        },
        "id": "srwQ9jwAAx1D",
        "outputId": "cd0b3df3-44c1-4820-8641-2ae92214e18a"
      },
      "source": [
        "!pip install scikit-learn==0.22.0"
      ],
      "execution_count": 9,
      "outputs": [
        {
          "output_type": "stream",
          "text": [
            "Collecting scikit-learn==0.22.0\n",
            "\u001b[?25l  Downloading https://files.pythonhosted.org/packages/2e/d0/860c4f6a7027e00acff373d9f5327f4ae3ed5872234b3cbdd7bcb52e5eff/scikit_learn-0.22-cp36-cp36m-manylinux1_x86_64.whl (7.0MB)\n",
            "\u001b[K     |████████████████████████████████| 7.0MB 5.8MB/s \n",
            "\u001b[?25hRequirement already satisfied: numpy>=1.11.0 in /usr/local/lib/python3.6/dist-packages (from scikit-learn==0.22.0) (1.19.4)\n",
            "Requirement already satisfied: scipy>=0.17.0 in /usr/local/lib/python3.6/dist-packages (from scikit-learn==0.22.0) (1.4.1)\n",
            "Requirement already satisfied: joblib>=0.11 in /usr/local/lib/python3.6/dist-packages (from scikit-learn==0.22.0) (1.0.0)\n",
            "Installing collected packages: scikit-learn\n",
            "  Found existing installation: scikit-learn 0.22.2.post1\n",
            "    Uninstalling scikit-learn-0.22.2.post1:\n",
            "      Successfully uninstalled scikit-learn-0.22.2.post1\n",
            "Successfully installed scikit-learn-0.22\n"
          ],
          "name": "stdout"
        }
      ]
    },
    {
      "cell_type": "code",
      "metadata": {
        "colab": {
          "base_uri": "https://localhost:8080/"
        },
        "id": "EEdGdUpuAx4M",
        "outputId": "ebf3977e-81f0-4a3d-9715-6e147e36cf31"
      },
      "source": [
        "import numpy as np\r\n",
        "import matplotlib.pyplot as plt\r\n",
        "import pandas as pd\r\n",
        "import seaborn as sns\r\n",
        "sns.set()\r\n",
        "\r\n",
        "import os\r\n",
        "print(os.listdir(\"/content\"))"
      ],
      "execution_count": 10,
      "outputs": [
        {
          "output_type": "stream",
          "text": [
            "['.config', 'bank-customer-churn-modeling', '.ipynb_checkpoints', 'kaggle.json', 'sample_data']\n"
          ],
          "name": "stdout"
        }
      ]
    },
    {
      "cell_type": "markdown",
      "metadata": {
        "id": "0LLx7AuoA8dd"
      },
      "source": [
        "## Data Preprocessing"
      ]
    },
    {
      "cell_type": "code",
      "metadata": {
        "colab": {
          "base_uri": "https://localhost:8080/",
          "height": 245
        },
        "id": "Q4Hhq4PjAx7N",
        "outputId": "078000d8-b56b-43af-956d-7681b5685317"
      },
      "source": [
        "#importing the dataset\r\n",
        "dataset = pd.read_csv('/content/bank-customer-churn-modeling/Churn_Modelling.csv', index_col='RowNumber')\r\n",
        "dataset.head()"
      ],
      "execution_count": 11,
      "outputs": [
        {
          "output_type": "execute_result",
          "data": {
            "text/html": [
              "<div>\n",
              "<style scoped>\n",
              "    .dataframe tbody tr th:only-of-type {\n",
              "        vertical-align: middle;\n",
              "    }\n",
              "\n",
              "    .dataframe tbody tr th {\n",
              "        vertical-align: top;\n",
              "    }\n",
              "\n",
              "    .dataframe thead th {\n",
              "        text-align: right;\n",
              "    }\n",
              "</style>\n",
              "<table border=\"1\" class=\"dataframe\">\n",
              "  <thead>\n",
              "    <tr style=\"text-align: right;\">\n",
              "      <th></th>\n",
              "      <th>CustomerId</th>\n",
              "      <th>Surname</th>\n",
              "      <th>CreditScore</th>\n",
              "      <th>Geography</th>\n",
              "      <th>Gender</th>\n",
              "      <th>Age</th>\n",
              "      <th>Tenure</th>\n",
              "      <th>Balance</th>\n",
              "      <th>NumOfProducts</th>\n",
              "      <th>HasCrCard</th>\n",
              "      <th>IsActiveMember</th>\n",
              "      <th>EstimatedSalary</th>\n",
              "      <th>Exited</th>\n",
              "    </tr>\n",
              "    <tr>\n",
              "      <th>RowNumber</th>\n",
              "      <th></th>\n",
              "      <th></th>\n",
              "      <th></th>\n",
              "      <th></th>\n",
              "      <th></th>\n",
              "      <th></th>\n",
              "      <th></th>\n",
              "      <th></th>\n",
              "      <th></th>\n",
              "      <th></th>\n",
              "      <th></th>\n",
              "      <th></th>\n",
              "      <th></th>\n",
              "    </tr>\n",
              "  </thead>\n",
              "  <tbody>\n",
              "    <tr>\n",
              "      <th>1</th>\n",
              "      <td>15634602</td>\n",
              "      <td>Hargrave</td>\n",
              "      <td>619</td>\n",
              "      <td>France</td>\n",
              "      <td>Female</td>\n",
              "      <td>42</td>\n",
              "      <td>2</td>\n",
              "      <td>0.00</td>\n",
              "      <td>1</td>\n",
              "      <td>1</td>\n",
              "      <td>1</td>\n",
              "      <td>101348.88</td>\n",
              "      <td>1</td>\n",
              "    </tr>\n",
              "    <tr>\n",
              "      <th>2</th>\n",
              "      <td>15647311</td>\n",
              "      <td>Hill</td>\n",
              "      <td>608</td>\n",
              "      <td>Spain</td>\n",
              "      <td>Female</td>\n",
              "      <td>41</td>\n",
              "      <td>1</td>\n",
              "      <td>83807.86</td>\n",
              "      <td>1</td>\n",
              "      <td>0</td>\n",
              "      <td>1</td>\n",
              "      <td>112542.58</td>\n",
              "      <td>0</td>\n",
              "    </tr>\n",
              "    <tr>\n",
              "      <th>3</th>\n",
              "      <td>15619304</td>\n",
              "      <td>Onio</td>\n",
              "      <td>502</td>\n",
              "      <td>France</td>\n",
              "      <td>Female</td>\n",
              "      <td>42</td>\n",
              "      <td>8</td>\n",
              "      <td>159660.80</td>\n",
              "      <td>3</td>\n",
              "      <td>1</td>\n",
              "      <td>0</td>\n",
              "      <td>113931.57</td>\n",
              "      <td>1</td>\n",
              "    </tr>\n",
              "    <tr>\n",
              "      <th>4</th>\n",
              "      <td>15701354</td>\n",
              "      <td>Boni</td>\n",
              "      <td>699</td>\n",
              "      <td>France</td>\n",
              "      <td>Female</td>\n",
              "      <td>39</td>\n",
              "      <td>1</td>\n",
              "      <td>0.00</td>\n",
              "      <td>2</td>\n",
              "      <td>0</td>\n",
              "      <td>0</td>\n",
              "      <td>93826.63</td>\n",
              "      <td>0</td>\n",
              "    </tr>\n",
              "    <tr>\n",
              "      <th>5</th>\n",
              "      <td>15737888</td>\n",
              "      <td>Mitchell</td>\n",
              "      <td>850</td>\n",
              "      <td>Spain</td>\n",
              "      <td>Female</td>\n",
              "      <td>43</td>\n",
              "      <td>2</td>\n",
              "      <td>125510.82</td>\n",
              "      <td>1</td>\n",
              "      <td>1</td>\n",
              "      <td>1</td>\n",
              "      <td>79084.10</td>\n",
              "      <td>0</td>\n",
              "    </tr>\n",
              "  </tbody>\n",
              "</table>\n",
              "</div>"
            ],
            "text/plain": [
              "           CustomerId   Surname  ...  EstimatedSalary Exited\n",
              "RowNumber                        ...                        \n",
              "1            15634602  Hargrave  ...        101348.88      1\n",
              "2            15647311      Hill  ...        112542.58      0\n",
              "3            15619304      Onio  ...        113931.57      1\n",
              "4            15701354      Boni  ...         93826.63      0\n",
              "5            15737888  Mitchell  ...         79084.10      0\n",
              "\n",
              "[5 rows x 13 columns]"
            ]
          },
          "metadata": {
            "tags": []
          },
          "execution_count": 11
        }
      ]
    },
    {
      "cell_type": "code",
      "metadata": {
        "colab": {
          "base_uri": "https://localhost:8080/"
        },
        "id": "f3F7G7BDAx-U",
        "outputId": "46f00589-812a-4496-86fa-8ab43f9bfee8"
      },
      "source": [
        "X_columns = dataset.columns.tolist()[2:12]\r\n",
        "y_columns = dataset.columns.tolist()[-1:]\r\n",
        "print(f'All columns: {dataset.columns.tolist()}')\r\n",
        "print()\r\n",
        "print(f'X values: {X_columns}')\r\n",
        "print()\r\n",
        "print(f'y values: {y_columns}')"
      ],
      "execution_count": 12,
      "outputs": [
        {
          "output_type": "stream",
          "text": [
            "All columns: ['CustomerId', 'Surname', 'CreditScore', 'Geography', 'Gender', 'Age', 'Tenure', 'Balance', 'NumOfProducts', 'HasCrCard', 'IsActiveMember', 'EstimatedSalary', 'Exited']\n",
            "\n",
            "X values: ['CreditScore', 'Geography', 'Gender', 'Age', 'Tenure', 'Balance', 'NumOfProducts', 'HasCrCard', 'IsActiveMember', 'EstimatedSalary']\n",
            "\n",
            "y values: ['Exited']\n"
          ],
          "name": "stdout"
        }
      ]
    },
    {
      "cell_type": "code",
      "metadata": {
        "id": "kZZQAkxTAyBL"
      },
      "source": [
        "X = dataset[X_columns].values # Credit Score through Estimated Salary\r\n",
        "y = dataset[y_columns].values # Exited"
      ],
      "execution_count": 13,
      "outputs": []
    },
    {
      "cell_type": "code",
      "metadata": {
        "colab": {
          "base_uri": "https://localhost:8080/"
        },
        "id": "QcNjRyATAyED",
        "outputId": "8a3b1e60-36af-405a-95ae-953bfb1a2424"
      },
      "source": [
        "# Encoding categorical (string based) data. Country: there are 3 options: France, Spain and Germany\r\n",
        "# This will convert those strings into scalar values for analysis\r\n",
        "print(X[:8,1], '... will now become: ')\r\n",
        "from sklearn.preprocessing import LabelEncoder\r\n",
        "label_X_country_encoder = LabelEncoder()\r\n",
        "X[:,1] = label_X_country_encoder.fit_transform(X[:,1])\r\n",
        "print(X[:8,1])"
      ],
      "execution_count": 14,
      "outputs": [
        {
          "output_type": "stream",
          "text": [
            "['France' 'Spain' 'France' 'France' 'Spain' 'Spain' 'France' 'Germany'] ... will now become: \n",
            "[0 2 0 0 2 2 0 1]\n"
          ],
          "name": "stdout"
        }
      ]
    },
    {
      "cell_type": "code",
      "metadata": {
        "colab": {
          "base_uri": "https://localhost:8080/"
        },
        "id": "-W96deB6AyG5",
        "outputId": "89ae4560-656c-42af-90d2-fbf14601dbc7"
      },
      "source": [
        "# We will do the same thing for gender. this will be binary in this dataset\r\n",
        "print(X[:6,2], '... will now become: ')\r\n",
        "from sklearn.preprocessing import LabelEncoder\r\n",
        "label_X_gender_encoder = LabelEncoder()\r\n",
        "X[:,2] = label_X_gender_encoder.fit_transform(X[:,2])\r\n",
        "print(X[:6,2])"
      ],
      "execution_count": 15,
      "outputs": [
        {
          "output_type": "stream",
          "text": [
            "['Female' 'Female' 'Female' 'Female' 'Female' 'Male'] ... will now become: \n",
            "[0 0 0 0 0 1]\n"
          ],
          "name": "stdout"
        }
      ]
    },
    {
      "cell_type": "code",
      "metadata": {
        "id": "7I2jCAOTBRn_"
      },
      "source": [
        "from sklearn.preprocessing import StandardScaler, OneHotEncoder\r\n",
        "from sklearn.compose import ColumnTransformer\r\n",
        "from sklearn.pipeline import Pipeline\r\n",
        "\r\n",
        "\r\n",
        "pipeline = Pipeline(\r\n",
        "    [('Categorizer', ColumnTransformer(\r\n",
        "         [ # Gender\r\n",
        "          (\"Gender Label encoder\", OneHotEncoder(categories='auto', drop='first'), [2]),\r\n",
        "           # Geography\r\n",
        "          (\"Geography One Hot\", OneHotEncoder(categories='auto', drop='first'), [1])\r\n",
        "         ], remainder='passthrough', n_jobs=1)),\r\n",
        "     # Standard Scaler for the classifier\r\n",
        "    ('Normalizer', StandardScaler())\r\n",
        "    ])"
      ],
      "execution_count": 16,
      "outputs": []
    },
    {
      "cell_type": "code",
      "metadata": {
        "id": "JosUKeygBRw4"
      },
      "source": [
        "X = pipeline.fit_transform(X)"
      ],
      "execution_count": 17,
      "outputs": []
    },
    {
      "cell_type": "code",
      "metadata": {
        "id": "3bdATofSBR2h"
      },
      "source": [
        "# Splitting the dataset into the Training and Testing set.\r\n",
        "from sklearn.model_selection import train_test_split\r\n",
        "X_train, X_test, y_train, y_test = train_test_split(X,y, test_size = 0.2, random_state = 0)"
      ],
      "execution_count": 18,
      "outputs": []
    },
    {
      "cell_type": "code",
      "metadata": {
        "colab": {
          "base_uri": "https://localhost:8080/"
        },
        "id": "SkipFt_9BR-5",
        "outputId": "03b6f022-4dd9-4090-ed52-5fd582577b4b"
      },
      "source": [
        "print(f'training shapes: {X_train.shape}, {y_train.shape}')\r\n",
        "print(f'testing shapes: {X_test.shape}, {y_test.shape}')"
      ],
      "execution_count": 19,
      "outputs": [
        {
          "output_type": "stream",
          "text": [
            "training shapes: (8000, 11), (8000, 1)\n",
            "testing shapes: (2000, 11), (2000, 1)\n"
          ],
          "name": "stdout"
        }
      ]
    },
    {
      "cell_type": "markdown",
      "metadata": {
        "id": "0h-A6nkaBf6e"
      },
      "source": [
        "## END OF PREPROCESSING"
      ]
    },
    {
      "cell_type": "markdown",
      "metadata": {
        "id": "qGvdTEJ3Bjw0"
      },
      "source": [
        "### Making the NN"
      ]
    },
    {
      "cell_type": "code",
      "metadata": {
        "id": "EkK62d8EBSB3"
      },
      "source": [
        "from keras.models import Sequential\r\n",
        "from keras.layers import Dense, Dropout"
      ],
      "execution_count": 20,
      "outputs": []
    },
    {
      "cell_type": "code",
      "metadata": {
        "id": "R2KEHyAcBSH3"
      },
      "source": [
        "# Initializing the ANN\r\n",
        "classifier = Sequential()"
      ],
      "execution_count": 21,
      "outputs": []
    },
    {
      "cell_type": "code",
      "metadata": {
        "id": "5SwT-WadBSLZ"
      },
      "source": [
        "# This adds the input layer (by specifying input dimension) AND the first hidden layer (units)\r\n",
        "classifier.add(Dense(6, activation = 'relu', input_shape = (X_train.shape[1], )))\r\n",
        "classifier.add(Dropout(rate=0.1))"
      ],
      "execution_count": 22,
      "outputs": []
    },
    {
      "cell_type": "code",
      "metadata": {
        "id": "QaxxTgJTBSOC"
      },
      "source": [
        "# Adding the second hidden layer\r\n",
        "# Notice that we do not need to specify input dim. \r\n",
        "classifier.add(Dense(6, activation = 'relu')) \r\n",
        "classifier.add(Dropout(rate=0.1)) "
      ],
      "execution_count": 23,
      "outputs": []
    },
    {
      "cell_type": "code",
      "metadata": {
        "id": "6yuORKyoBSQu"
      },
      "source": [
        "# Adding the output layer\r\n",
        "# Notice that we do not need to specify input dim. \r\n",
        "# we have an output of 1 node, which is the the desired dimensions of our output (stay with the bank or not)\r\n",
        "# We use the sigmoid because we want probability outcomes\r\n",
        "classifier.add(Dense(1, activation = 'sigmoid')) "
      ],
      "execution_count": 24,
      "outputs": []
    },
    {
      "cell_type": "code",
      "metadata": {
        "colab": {
          "base_uri": "https://localhost:8080/"
        },
        "id": "dCuGuSRvBSUM",
        "outputId": "5f88d0ef-d767-483b-d114-aa5e08fd675e"
      },
      "source": [
        "classifier.summary()"
      ],
      "execution_count": 25,
      "outputs": [
        {
          "output_type": "stream",
          "text": [
            "Model: \"sequential\"\n",
            "_________________________________________________________________\n",
            "Layer (type)                 Output Shape              Param #   \n",
            "=================================================================\n",
            "dense (Dense)                (None, 6)                 72        \n",
            "_________________________________________________________________\n",
            "dropout (Dropout)            (None, 6)                 0         \n",
            "_________________________________________________________________\n",
            "dense_1 (Dense)              (None, 6)                 42        \n",
            "_________________________________________________________________\n",
            "dropout_1 (Dropout)          (None, 6)                 0         \n",
            "_________________________________________________________________\n",
            "dense_2 (Dense)              (None, 1)                 7         \n",
            "=================================================================\n",
            "Total params: 121\n",
            "Trainable params: 121\n",
            "Non-trainable params: 0\n",
            "_________________________________________________________________\n"
          ],
          "name": "stdout"
        }
      ]
    },
    {
      "cell_type": "code",
      "metadata": {
        "id": "BdEYQ5PCBSdF"
      },
      "source": [
        "classifier.compile(optimizer='adam', loss = 'binary_crossentropy', metrics=['accuracy'])"
      ],
      "execution_count": 26,
      "outputs": []
    },
    {
      "cell_type": "markdown",
      "metadata": {
        "id": "VIJijZ15B4GQ"
      },
      "source": [
        "### Fitting the Neural Network"
      ]
    },
    {
      "cell_type": "code",
      "metadata": {
        "colab": {
          "base_uri": "https://localhost:8080/"
        },
        "id": "ho7oHnYBAyJ3",
        "outputId": "9532fbee-f4a4-4cc1-9c40-4d277c192089"
      },
      "source": [
        "history = classifier.fit(X_train, y_train, batch_size=32, epochs=200, validation_split=0.1, verbose=2)"
      ],
      "execution_count": 27,
      "outputs": [
        {
          "output_type": "stream",
          "text": [
            "Epoch 1/200\n",
            "225/225 - 1s - loss: 0.6323 - accuracy: 0.6785 - val_loss: 0.5157 - val_accuracy: 0.7925\n",
            "Epoch 2/200\n",
            "225/225 - 0s - loss: 0.5009 - accuracy: 0.7939 - val_loss: 0.4634 - val_accuracy: 0.7950\n",
            "Epoch 3/200\n",
            "225/225 - 0s - loss: 0.4766 - accuracy: 0.7936 - val_loss: 0.4487 - val_accuracy: 0.7950\n",
            "Epoch 4/200\n",
            "225/225 - 0s - loss: 0.4665 - accuracy: 0.7957 - val_loss: 0.4368 - val_accuracy: 0.7950\n",
            "Epoch 5/200\n",
            "225/225 - 0s - loss: 0.4549 - accuracy: 0.7957 - val_loss: 0.4240 - val_accuracy: 0.7912\n",
            "Epoch 6/200\n",
            "225/225 - 0s - loss: 0.4483 - accuracy: 0.8008 - val_loss: 0.4134 - val_accuracy: 0.8050\n",
            "Epoch 7/200\n",
            "225/225 - 0s - loss: 0.4392 - accuracy: 0.8057 - val_loss: 0.4038 - val_accuracy: 0.8238\n",
            "Epoch 8/200\n",
            "225/225 - 0s - loss: 0.4333 - accuracy: 0.8132 - val_loss: 0.3975 - val_accuracy: 0.8325\n",
            "Epoch 9/200\n",
            "225/225 - 0s - loss: 0.4307 - accuracy: 0.8186 - val_loss: 0.3934 - val_accuracy: 0.8363\n",
            "Epoch 10/200\n",
            "225/225 - 0s - loss: 0.4256 - accuracy: 0.8183 - val_loss: 0.3896 - val_accuracy: 0.8350\n",
            "Epoch 11/200\n",
            "225/225 - 0s - loss: 0.4256 - accuracy: 0.8153 - val_loss: 0.3886 - val_accuracy: 0.8375\n",
            "Epoch 12/200\n",
            "225/225 - 0s - loss: 0.4232 - accuracy: 0.8179 - val_loss: 0.3865 - val_accuracy: 0.8400\n",
            "Epoch 13/200\n",
            "225/225 - 0s - loss: 0.4222 - accuracy: 0.8208 - val_loss: 0.3829 - val_accuracy: 0.8450\n",
            "Epoch 14/200\n",
            "225/225 - 0s - loss: 0.4184 - accuracy: 0.8213 - val_loss: 0.3796 - val_accuracy: 0.8450\n",
            "Epoch 15/200\n",
            "225/225 - 0s - loss: 0.4241 - accuracy: 0.8160 - val_loss: 0.3806 - val_accuracy: 0.8438\n",
            "Epoch 16/200\n",
            "225/225 - 0s - loss: 0.4203 - accuracy: 0.8190 - val_loss: 0.3784 - val_accuracy: 0.8462\n",
            "Epoch 17/200\n",
            "225/225 - 0s - loss: 0.4177 - accuracy: 0.8200 - val_loss: 0.3769 - val_accuracy: 0.8475\n",
            "Epoch 18/200\n",
            "225/225 - 0s - loss: 0.4149 - accuracy: 0.8208 - val_loss: 0.3770 - val_accuracy: 0.8450\n",
            "Epoch 19/200\n",
            "225/225 - 0s - loss: 0.4177 - accuracy: 0.8211 - val_loss: 0.3757 - val_accuracy: 0.8475\n",
            "Epoch 20/200\n",
            "225/225 - 0s - loss: 0.4139 - accuracy: 0.8197 - val_loss: 0.3742 - val_accuracy: 0.8450\n",
            "Epoch 21/200\n",
            "225/225 - 0s - loss: 0.4131 - accuracy: 0.8186 - val_loss: 0.3733 - val_accuracy: 0.8487\n",
            "Epoch 22/200\n",
            "225/225 - 0s - loss: 0.4139 - accuracy: 0.8183 - val_loss: 0.3713 - val_accuracy: 0.8475\n",
            "Epoch 23/200\n",
            "225/225 - 0s - loss: 0.4045 - accuracy: 0.8239 - val_loss: 0.3697 - val_accuracy: 0.8487\n",
            "Epoch 24/200\n",
            "225/225 - 0s - loss: 0.4079 - accuracy: 0.8215 - val_loss: 0.3674 - val_accuracy: 0.8500\n",
            "Epoch 25/200\n",
            "225/225 - 0s - loss: 0.4140 - accuracy: 0.8171 - val_loss: 0.3679 - val_accuracy: 0.8450\n",
            "Epoch 26/200\n",
            "225/225 - 0s - loss: 0.4055 - accuracy: 0.8197 - val_loss: 0.3664 - val_accuracy: 0.8462\n",
            "Epoch 27/200\n",
            "225/225 - 0s - loss: 0.4043 - accuracy: 0.8218 - val_loss: 0.3659 - val_accuracy: 0.8487\n",
            "Epoch 28/200\n",
            "225/225 - 0s - loss: 0.4057 - accuracy: 0.8226 - val_loss: 0.3658 - val_accuracy: 0.8487\n",
            "Epoch 29/200\n",
            "225/225 - 0s - loss: 0.4039 - accuracy: 0.8236 - val_loss: 0.3624 - val_accuracy: 0.8475\n",
            "Epoch 30/200\n",
            "225/225 - 0s - loss: 0.4058 - accuracy: 0.8172 - val_loss: 0.3622 - val_accuracy: 0.8500\n",
            "Epoch 31/200\n",
            "225/225 - 0s - loss: 0.4097 - accuracy: 0.8163 - val_loss: 0.3623 - val_accuracy: 0.8487\n",
            "Epoch 32/200\n",
            "225/225 - 0s - loss: 0.4039 - accuracy: 0.8204 - val_loss: 0.3602 - val_accuracy: 0.8500\n",
            "Epoch 33/200\n",
            "225/225 - 0s - loss: 0.4005 - accuracy: 0.8194 - val_loss: 0.3593 - val_accuracy: 0.8500\n",
            "Epoch 34/200\n",
            "225/225 - 0s - loss: 0.3991 - accuracy: 0.8217 - val_loss: 0.3574 - val_accuracy: 0.8500\n",
            "Epoch 35/200\n",
            "225/225 - 0s - loss: 0.3994 - accuracy: 0.8196 - val_loss: 0.3569 - val_accuracy: 0.8487\n",
            "Epoch 36/200\n",
            "225/225 - 0s - loss: 0.3960 - accuracy: 0.8206 - val_loss: 0.3549 - val_accuracy: 0.8475\n",
            "Epoch 37/200\n",
            "225/225 - 0s - loss: 0.3973 - accuracy: 0.8199 - val_loss: 0.3539 - val_accuracy: 0.8450\n",
            "Epoch 38/200\n",
            "225/225 - 0s - loss: 0.3953 - accuracy: 0.8200 - val_loss: 0.3527 - val_accuracy: 0.8475\n",
            "Epoch 39/200\n",
            "225/225 - 0s - loss: 0.3945 - accuracy: 0.8239 - val_loss: 0.3517 - val_accuracy: 0.8462\n",
            "Epoch 40/200\n",
            "225/225 - 0s - loss: 0.3984 - accuracy: 0.8203 - val_loss: 0.3528 - val_accuracy: 0.8475\n",
            "Epoch 41/200\n",
            "225/225 - 0s - loss: 0.3963 - accuracy: 0.8204 - val_loss: 0.3513 - val_accuracy: 0.8487\n",
            "Epoch 42/200\n",
            "225/225 - 0s - loss: 0.3921 - accuracy: 0.8208 - val_loss: 0.3501 - val_accuracy: 0.8525\n",
            "Epoch 43/200\n",
            "225/225 - 0s - loss: 0.3955 - accuracy: 0.8193 - val_loss: 0.3498 - val_accuracy: 0.8487\n",
            "Epoch 44/200\n",
            "225/225 - 0s - loss: 0.3937 - accuracy: 0.8226 - val_loss: 0.3497 - val_accuracy: 0.8512\n",
            "Epoch 45/200\n",
            "225/225 - 0s - loss: 0.3880 - accuracy: 0.8207 - val_loss: 0.3492 - val_accuracy: 0.8500\n",
            "Epoch 46/200\n",
            "225/225 - 0s - loss: 0.3892 - accuracy: 0.8192 - val_loss: 0.3484 - val_accuracy: 0.8537\n",
            "Epoch 47/200\n",
            "225/225 - 0s - loss: 0.3935 - accuracy: 0.8226 - val_loss: 0.3480 - val_accuracy: 0.8550\n",
            "Epoch 48/200\n",
            "225/225 - 0s - loss: 0.3894 - accuracy: 0.8199 - val_loss: 0.3465 - val_accuracy: 0.8550\n",
            "Epoch 49/200\n",
            "225/225 - 0s - loss: 0.3931 - accuracy: 0.8215 - val_loss: 0.3477 - val_accuracy: 0.8512\n",
            "Epoch 50/200\n",
            "225/225 - 0s - loss: 0.3904 - accuracy: 0.8207 - val_loss: 0.3472 - val_accuracy: 0.8512\n",
            "Epoch 51/200\n",
            "225/225 - 0s - loss: 0.3878 - accuracy: 0.8228 - val_loss: 0.3459 - val_accuracy: 0.8537\n",
            "Epoch 52/200\n",
            "225/225 - 0s - loss: 0.3914 - accuracy: 0.8218 - val_loss: 0.3463 - val_accuracy: 0.8537\n",
            "Epoch 53/200\n",
            "225/225 - 0s - loss: 0.3906 - accuracy: 0.8217 - val_loss: 0.3465 - val_accuracy: 0.8500\n",
            "Epoch 54/200\n",
            "225/225 - 0s - loss: 0.3881 - accuracy: 0.8249 - val_loss: 0.3457 - val_accuracy: 0.8537\n",
            "Epoch 55/200\n",
            "225/225 - 0s - loss: 0.3911 - accuracy: 0.8201 - val_loss: 0.3458 - val_accuracy: 0.8525\n",
            "Epoch 56/200\n",
            "225/225 - 0s - loss: 0.3895 - accuracy: 0.8185 - val_loss: 0.3458 - val_accuracy: 0.8537\n",
            "Epoch 57/200\n",
            "225/225 - 0s - loss: 0.3867 - accuracy: 0.8228 - val_loss: 0.3450 - val_accuracy: 0.8512\n",
            "Epoch 58/200\n",
            "225/225 - 0s - loss: 0.3923 - accuracy: 0.8185 - val_loss: 0.3446 - val_accuracy: 0.8550\n",
            "Epoch 59/200\n",
            "225/225 - 0s - loss: 0.3861 - accuracy: 0.8236 - val_loss: 0.3438 - val_accuracy: 0.8512\n",
            "Epoch 60/200\n",
            "225/225 - 0s - loss: 0.3876 - accuracy: 0.8221 - val_loss: 0.3440 - val_accuracy: 0.8487\n",
            "Epoch 61/200\n",
            "225/225 - 0s - loss: 0.3898 - accuracy: 0.8201 - val_loss: 0.3442 - val_accuracy: 0.8525\n",
            "Epoch 62/200\n",
            "225/225 - 0s - loss: 0.3847 - accuracy: 0.8240 - val_loss: 0.3430 - val_accuracy: 0.8500\n",
            "Epoch 63/200\n",
            "225/225 - 0s - loss: 0.3882 - accuracy: 0.8213 - val_loss: 0.3425 - val_accuracy: 0.8525\n",
            "Epoch 64/200\n",
            "225/225 - 0s - loss: 0.3844 - accuracy: 0.8215 - val_loss: 0.3411 - val_accuracy: 0.8500\n",
            "Epoch 65/200\n",
            "225/225 - 0s - loss: 0.3886 - accuracy: 0.8192 - val_loss: 0.3422 - val_accuracy: 0.8500\n",
            "Epoch 66/200\n",
            "225/225 - 0s - loss: 0.3854 - accuracy: 0.8224 - val_loss: 0.3414 - val_accuracy: 0.8487\n",
            "Epoch 67/200\n",
            "225/225 - 0s - loss: 0.3923 - accuracy: 0.8204 - val_loss: 0.3422 - val_accuracy: 0.8450\n",
            "Epoch 68/200\n",
            "225/225 - 0s - loss: 0.3857 - accuracy: 0.8256 - val_loss: 0.3416 - val_accuracy: 0.8500\n",
            "Epoch 69/200\n",
            "225/225 - 0s - loss: 0.3844 - accuracy: 0.8228 - val_loss: 0.3397 - val_accuracy: 0.8512\n",
            "Epoch 70/200\n",
            "225/225 - 0s - loss: 0.3841 - accuracy: 0.8247 - val_loss: 0.3399 - val_accuracy: 0.8475\n",
            "Epoch 71/200\n",
            "225/225 - 0s - loss: 0.3843 - accuracy: 0.8260 - val_loss: 0.3401 - val_accuracy: 0.8537\n",
            "Epoch 72/200\n",
            "225/225 - 0s - loss: 0.3873 - accuracy: 0.8243 - val_loss: 0.3403 - val_accuracy: 0.8525\n",
            "Epoch 73/200\n",
            "225/225 - 0s - loss: 0.3877 - accuracy: 0.8224 - val_loss: 0.3418 - val_accuracy: 0.8462\n",
            "Epoch 74/200\n",
            "225/225 - 0s - loss: 0.3838 - accuracy: 0.8292 - val_loss: 0.3403 - val_accuracy: 0.8525\n",
            "Epoch 75/200\n",
            "225/225 - 0s - loss: 0.3880 - accuracy: 0.8215 - val_loss: 0.3405 - val_accuracy: 0.8512\n",
            "Epoch 76/200\n",
            "225/225 - 0s - loss: 0.3824 - accuracy: 0.8269 - val_loss: 0.3400 - val_accuracy: 0.8512\n",
            "Epoch 77/200\n",
            "225/225 - 0s - loss: 0.3819 - accuracy: 0.8267 - val_loss: 0.3387 - val_accuracy: 0.8487\n",
            "Epoch 78/200\n",
            "225/225 - 0s - loss: 0.3813 - accuracy: 0.8254 - val_loss: 0.3386 - val_accuracy: 0.8525\n",
            "Epoch 79/200\n",
            "225/225 - 0s - loss: 0.3842 - accuracy: 0.8257 - val_loss: 0.3374 - val_accuracy: 0.8525\n",
            "Epoch 80/200\n",
            "225/225 - 0s - loss: 0.3841 - accuracy: 0.8219 - val_loss: 0.3376 - val_accuracy: 0.8525\n",
            "Epoch 81/200\n",
            "225/225 - 0s - loss: 0.3880 - accuracy: 0.8222 - val_loss: 0.3379 - val_accuracy: 0.8537\n",
            "Epoch 82/200\n",
            "225/225 - 0s - loss: 0.3804 - accuracy: 0.8249 - val_loss: 0.3373 - val_accuracy: 0.8512\n",
            "Epoch 83/200\n",
            "225/225 - 0s - loss: 0.3837 - accuracy: 0.8221 - val_loss: 0.3376 - val_accuracy: 0.8537\n",
            "Epoch 84/200\n",
            "225/225 - 0s - loss: 0.3843 - accuracy: 0.8219 - val_loss: 0.3380 - val_accuracy: 0.8525\n",
            "Epoch 85/200\n",
            "225/225 - 0s - loss: 0.3815 - accuracy: 0.8211 - val_loss: 0.3373 - val_accuracy: 0.8487\n",
            "Epoch 86/200\n",
            "225/225 - 0s - loss: 0.3869 - accuracy: 0.8222 - val_loss: 0.3370 - val_accuracy: 0.8537\n",
            "Epoch 87/200\n",
            "225/225 - 0s - loss: 0.3805 - accuracy: 0.8258 - val_loss: 0.3354 - val_accuracy: 0.8525\n",
            "Epoch 88/200\n",
            "225/225 - 0s - loss: 0.3823 - accuracy: 0.8231 - val_loss: 0.3377 - val_accuracy: 0.8462\n",
            "Epoch 89/200\n",
            "225/225 - 0s - loss: 0.3809 - accuracy: 0.8214 - val_loss: 0.3360 - val_accuracy: 0.8525\n",
            "Epoch 90/200\n",
            "225/225 - 0s - loss: 0.3859 - accuracy: 0.8215 - val_loss: 0.3361 - val_accuracy: 0.8537\n",
            "Epoch 91/200\n",
            "225/225 - 0s - loss: 0.3841 - accuracy: 0.8247 - val_loss: 0.3371 - val_accuracy: 0.8475\n",
            "Epoch 92/200\n",
            "225/225 - 0s - loss: 0.3871 - accuracy: 0.8206 - val_loss: 0.3365 - val_accuracy: 0.8475\n",
            "Epoch 93/200\n",
            "225/225 - 0s - loss: 0.3837 - accuracy: 0.8242 - val_loss: 0.3369 - val_accuracy: 0.8450\n",
            "Epoch 94/200\n",
            "225/225 - 0s - loss: 0.3816 - accuracy: 0.8238 - val_loss: 0.3362 - val_accuracy: 0.8462\n",
            "Epoch 95/200\n",
            "225/225 - 0s - loss: 0.3849 - accuracy: 0.8224 - val_loss: 0.3363 - val_accuracy: 0.8512\n",
            "Epoch 96/200\n",
            "225/225 - 0s - loss: 0.3762 - accuracy: 0.8257 - val_loss: 0.3360 - val_accuracy: 0.8512\n",
            "Epoch 97/200\n",
            "225/225 - 0s - loss: 0.3808 - accuracy: 0.8240 - val_loss: 0.3370 - val_accuracy: 0.8487\n",
            "Epoch 98/200\n",
            "225/225 - 0s - loss: 0.3837 - accuracy: 0.8221 - val_loss: 0.3369 - val_accuracy: 0.8512\n",
            "Epoch 99/200\n",
            "225/225 - 0s - loss: 0.3821 - accuracy: 0.8225 - val_loss: 0.3365 - val_accuracy: 0.8550\n",
            "Epoch 100/200\n",
            "225/225 - 0s - loss: 0.3842 - accuracy: 0.8235 - val_loss: 0.3360 - val_accuracy: 0.8525\n",
            "Epoch 101/200\n",
            "225/225 - 0s - loss: 0.3809 - accuracy: 0.8246 - val_loss: 0.3363 - val_accuracy: 0.8537\n",
            "Epoch 102/200\n",
            "225/225 - 0s - loss: 0.3830 - accuracy: 0.8251 - val_loss: 0.3371 - val_accuracy: 0.8500\n",
            "Epoch 103/200\n",
            "225/225 - 0s - loss: 0.3846 - accuracy: 0.8276 - val_loss: 0.3366 - val_accuracy: 0.8500\n",
            "Epoch 104/200\n",
            "225/225 - 0s - loss: 0.3804 - accuracy: 0.8281 - val_loss: 0.3361 - val_accuracy: 0.8475\n",
            "Epoch 105/200\n",
            "225/225 - 0s - loss: 0.3821 - accuracy: 0.8243 - val_loss: 0.3363 - val_accuracy: 0.8525\n",
            "Epoch 106/200\n",
            "225/225 - 0s - loss: 0.3813 - accuracy: 0.8268 - val_loss: 0.3364 - val_accuracy: 0.8537\n",
            "Epoch 107/200\n",
            "225/225 - 0s - loss: 0.3805 - accuracy: 0.8260 - val_loss: 0.3360 - val_accuracy: 0.8512\n",
            "Epoch 108/200\n",
            "225/225 - 0s - loss: 0.3781 - accuracy: 0.8249 - val_loss: 0.3363 - val_accuracy: 0.8500\n",
            "Epoch 109/200\n",
            "225/225 - 0s - loss: 0.3806 - accuracy: 0.8256 - val_loss: 0.3363 - val_accuracy: 0.8525\n",
            "Epoch 110/200\n",
            "225/225 - 0s - loss: 0.3876 - accuracy: 0.8222 - val_loss: 0.3359 - val_accuracy: 0.8500\n",
            "Epoch 111/200\n",
            "225/225 - 0s - loss: 0.3802 - accuracy: 0.8278 - val_loss: 0.3361 - val_accuracy: 0.8475\n",
            "Epoch 112/200\n",
            "225/225 - 0s - loss: 0.3825 - accuracy: 0.8265 - val_loss: 0.3356 - val_accuracy: 0.8500\n",
            "Epoch 113/200\n",
            "225/225 - 0s - loss: 0.3768 - accuracy: 0.8275 - val_loss: 0.3350 - val_accuracy: 0.8500\n",
            "Epoch 114/200\n",
            "225/225 - 0s - loss: 0.3754 - accuracy: 0.8271 - val_loss: 0.3351 - val_accuracy: 0.8500\n",
            "Epoch 115/200\n",
            "225/225 - 0s - loss: 0.3851 - accuracy: 0.8239 - val_loss: 0.3346 - val_accuracy: 0.8487\n",
            "Epoch 116/200\n",
            "225/225 - 0s - loss: 0.3849 - accuracy: 0.8249 - val_loss: 0.3341 - val_accuracy: 0.8462\n",
            "Epoch 117/200\n",
            "225/225 - 0s - loss: 0.3828 - accuracy: 0.8239 - val_loss: 0.3338 - val_accuracy: 0.8475\n",
            "Epoch 118/200\n",
            "225/225 - 0s - loss: 0.3854 - accuracy: 0.8258 - val_loss: 0.3367 - val_accuracy: 0.8450\n",
            "Epoch 119/200\n",
            "225/225 - 0s - loss: 0.3808 - accuracy: 0.8249 - val_loss: 0.3356 - val_accuracy: 0.8475\n",
            "Epoch 120/200\n",
            "225/225 - 0s - loss: 0.3885 - accuracy: 0.8260 - val_loss: 0.3370 - val_accuracy: 0.8487\n",
            "Epoch 121/200\n",
            "225/225 - 0s - loss: 0.3809 - accuracy: 0.8247 - val_loss: 0.3365 - val_accuracy: 0.8487\n",
            "Epoch 122/200\n",
            "225/225 - 0s - loss: 0.3795 - accuracy: 0.8285 - val_loss: 0.3364 - val_accuracy: 0.8487\n",
            "Epoch 123/200\n",
            "225/225 - 0s - loss: 0.3815 - accuracy: 0.8253 - val_loss: 0.3356 - val_accuracy: 0.8487\n",
            "Epoch 124/200\n",
            "225/225 - 0s - loss: 0.3812 - accuracy: 0.8307 - val_loss: 0.3353 - val_accuracy: 0.8500\n",
            "Epoch 125/200\n",
            "225/225 - 0s - loss: 0.3800 - accuracy: 0.8236 - val_loss: 0.3362 - val_accuracy: 0.8475\n",
            "Epoch 126/200\n",
            "225/225 - 0s - loss: 0.3780 - accuracy: 0.8250 - val_loss: 0.3358 - val_accuracy: 0.8475\n",
            "Epoch 127/200\n",
            "225/225 - 0s - loss: 0.3855 - accuracy: 0.8265 - val_loss: 0.3362 - val_accuracy: 0.8500\n",
            "Epoch 128/200\n",
            "225/225 - 0s - loss: 0.3810 - accuracy: 0.8249 - val_loss: 0.3365 - val_accuracy: 0.8475\n",
            "Epoch 129/200\n",
            "225/225 - 0s - loss: 0.3801 - accuracy: 0.8254 - val_loss: 0.3353 - val_accuracy: 0.8487\n",
            "Epoch 130/200\n",
            "225/225 - 0s - loss: 0.3859 - accuracy: 0.8254 - val_loss: 0.3374 - val_accuracy: 0.8512\n",
            "Epoch 131/200\n",
            "225/225 - 0s - loss: 0.3812 - accuracy: 0.8271 - val_loss: 0.3356 - val_accuracy: 0.8500\n",
            "Epoch 132/200\n",
            "225/225 - 0s - loss: 0.3791 - accuracy: 0.8243 - val_loss: 0.3359 - val_accuracy: 0.8512\n",
            "Epoch 133/200\n",
            "225/225 - 0s - loss: 0.3834 - accuracy: 0.8276 - val_loss: 0.3360 - val_accuracy: 0.8512\n",
            "Epoch 134/200\n",
            "225/225 - 0s - loss: 0.3791 - accuracy: 0.8254 - val_loss: 0.3366 - val_accuracy: 0.8462\n",
            "Epoch 135/200\n",
            "225/225 - 0s - loss: 0.3756 - accuracy: 0.8257 - val_loss: 0.3361 - val_accuracy: 0.8475\n",
            "Epoch 136/200\n",
            "225/225 - 0s - loss: 0.3795 - accuracy: 0.8258 - val_loss: 0.3357 - val_accuracy: 0.8500\n",
            "Epoch 137/200\n",
            "225/225 - 0s - loss: 0.3773 - accuracy: 0.8276 - val_loss: 0.3355 - val_accuracy: 0.8500\n",
            "Epoch 138/200\n",
            "225/225 - 0s - loss: 0.3832 - accuracy: 0.8253 - val_loss: 0.3356 - val_accuracy: 0.8500\n",
            "Epoch 139/200\n",
            "225/225 - 0s - loss: 0.3831 - accuracy: 0.8261 - val_loss: 0.3367 - val_accuracy: 0.8450\n",
            "Epoch 140/200\n",
            "225/225 - 0s - loss: 0.3870 - accuracy: 0.8264 - val_loss: 0.3356 - val_accuracy: 0.8487\n",
            "Epoch 141/200\n",
            "225/225 - 0s - loss: 0.3778 - accuracy: 0.8313 - val_loss: 0.3361 - val_accuracy: 0.8500\n",
            "Epoch 142/200\n",
            "225/225 - 0s - loss: 0.3792 - accuracy: 0.8246 - val_loss: 0.3365 - val_accuracy: 0.8500\n",
            "Epoch 143/200\n",
            "225/225 - 0s - loss: 0.3804 - accuracy: 0.8258 - val_loss: 0.3368 - val_accuracy: 0.8475\n",
            "Epoch 144/200\n",
            "225/225 - 0s - loss: 0.3775 - accuracy: 0.8264 - val_loss: 0.3363 - val_accuracy: 0.8475\n",
            "Epoch 145/200\n",
            "225/225 - 0s - loss: 0.3834 - accuracy: 0.8238 - val_loss: 0.3368 - val_accuracy: 0.8487\n",
            "Epoch 146/200\n",
            "225/225 - 0s - loss: 0.3826 - accuracy: 0.8278 - val_loss: 0.3363 - val_accuracy: 0.8475\n",
            "Epoch 147/200\n",
            "225/225 - 0s - loss: 0.3782 - accuracy: 0.8260 - val_loss: 0.3365 - val_accuracy: 0.8475\n",
            "Epoch 148/200\n",
            "225/225 - 0s - loss: 0.3812 - accuracy: 0.8231 - val_loss: 0.3358 - val_accuracy: 0.8475\n",
            "Epoch 149/200\n",
            "225/225 - 0s - loss: 0.3743 - accuracy: 0.8288 - val_loss: 0.3351 - val_accuracy: 0.8500\n",
            "Epoch 150/200\n",
            "225/225 - 0s - loss: 0.3837 - accuracy: 0.8256 - val_loss: 0.3347 - val_accuracy: 0.8487\n",
            "Epoch 151/200\n",
            "225/225 - 0s - loss: 0.3818 - accuracy: 0.8263 - val_loss: 0.3367 - val_accuracy: 0.8462\n",
            "Epoch 152/200\n",
            "225/225 - 0s - loss: 0.3857 - accuracy: 0.8274 - val_loss: 0.3363 - val_accuracy: 0.8487\n",
            "Epoch 153/200\n",
            "225/225 - 0s - loss: 0.3765 - accuracy: 0.8278 - val_loss: 0.3352 - val_accuracy: 0.8475\n",
            "Epoch 154/200\n",
            "225/225 - 0s - loss: 0.3841 - accuracy: 0.8246 - val_loss: 0.3360 - val_accuracy: 0.8487\n",
            "Epoch 155/200\n",
            "225/225 - 0s - loss: 0.3824 - accuracy: 0.8263 - val_loss: 0.3363 - val_accuracy: 0.8487\n",
            "Epoch 156/200\n",
            "225/225 - 0s - loss: 0.3775 - accuracy: 0.8269 - val_loss: 0.3364 - val_accuracy: 0.8487\n",
            "Epoch 157/200\n",
            "225/225 - 0s - loss: 0.3793 - accuracy: 0.8271 - val_loss: 0.3352 - val_accuracy: 0.8462\n",
            "Epoch 158/200\n",
            "225/225 - 0s - loss: 0.3834 - accuracy: 0.8264 - val_loss: 0.3375 - val_accuracy: 0.8450\n",
            "Epoch 159/200\n",
            "225/225 - 0s - loss: 0.3816 - accuracy: 0.8269 - val_loss: 0.3360 - val_accuracy: 0.8487\n",
            "Epoch 160/200\n",
            "225/225 - 0s - loss: 0.3834 - accuracy: 0.8243 - val_loss: 0.3357 - val_accuracy: 0.8487\n",
            "Epoch 161/200\n",
            "225/225 - 0s - loss: 0.3811 - accuracy: 0.8282 - val_loss: 0.3358 - val_accuracy: 0.8487\n",
            "Epoch 162/200\n",
            "225/225 - 0s - loss: 0.3855 - accuracy: 0.8261 - val_loss: 0.3359 - val_accuracy: 0.8475\n",
            "Epoch 163/200\n",
            "225/225 - 0s - loss: 0.3830 - accuracy: 0.8256 - val_loss: 0.3380 - val_accuracy: 0.8462\n",
            "Epoch 164/200\n",
            "225/225 - 0s - loss: 0.3773 - accuracy: 0.8249 - val_loss: 0.3377 - val_accuracy: 0.8500\n",
            "Epoch 165/200\n",
            "225/225 - 0s - loss: 0.3804 - accuracy: 0.8278 - val_loss: 0.3363 - val_accuracy: 0.8487\n",
            "Epoch 166/200\n",
            "225/225 - 0s - loss: 0.3797 - accuracy: 0.8267 - val_loss: 0.3362 - val_accuracy: 0.8487\n",
            "Epoch 167/200\n",
            "225/225 - 0s - loss: 0.3800 - accuracy: 0.8271 - val_loss: 0.3364 - val_accuracy: 0.8450\n",
            "Epoch 168/200\n",
            "225/225 - 0s - loss: 0.3798 - accuracy: 0.8279 - val_loss: 0.3373 - val_accuracy: 0.8462\n",
            "Epoch 169/200\n",
            "225/225 - 0s - loss: 0.3810 - accuracy: 0.8263 - val_loss: 0.3368 - val_accuracy: 0.8475\n",
            "Epoch 170/200\n",
            "225/225 - 0s - loss: 0.3815 - accuracy: 0.8267 - val_loss: 0.3368 - val_accuracy: 0.8462\n",
            "Epoch 171/200\n",
            "225/225 - 0s - loss: 0.3828 - accuracy: 0.8257 - val_loss: 0.3373 - val_accuracy: 0.8462\n",
            "Epoch 172/200\n",
            "225/225 - 0s - loss: 0.3841 - accuracy: 0.8253 - val_loss: 0.3381 - val_accuracy: 0.8475\n",
            "Epoch 173/200\n",
            "225/225 - 0s - loss: 0.3810 - accuracy: 0.8254 - val_loss: 0.3384 - val_accuracy: 0.8475\n",
            "Epoch 174/200\n",
            "225/225 - 0s - loss: 0.3801 - accuracy: 0.8249 - val_loss: 0.3372 - val_accuracy: 0.8475\n",
            "Epoch 175/200\n",
            "225/225 - 0s - loss: 0.3828 - accuracy: 0.8269 - val_loss: 0.3371 - val_accuracy: 0.8475\n",
            "Epoch 176/200\n",
            "225/225 - 0s - loss: 0.3809 - accuracy: 0.8249 - val_loss: 0.3387 - val_accuracy: 0.8475\n",
            "Epoch 177/200\n",
            "225/225 - 0s - loss: 0.3794 - accuracy: 0.8292 - val_loss: 0.3366 - val_accuracy: 0.8475\n",
            "Epoch 178/200\n",
            "225/225 - 0s - loss: 0.3824 - accuracy: 0.8250 - val_loss: 0.3372 - val_accuracy: 0.8500\n",
            "Epoch 179/200\n",
            "225/225 - 0s - loss: 0.3820 - accuracy: 0.8263 - val_loss: 0.3371 - val_accuracy: 0.8500\n",
            "Epoch 180/200\n",
            "225/225 - 0s - loss: 0.3820 - accuracy: 0.8233 - val_loss: 0.3383 - val_accuracy: 0.8462\n",
            "Epoch 181/200\n",
            "225/225 - 0s - loss: 0.3841 - accuracy: 0.8244 - val_loss: 0.3380 - val_accuracy: 0.8462\n",
            "Epoch 182/200\n",
            "225/225 - 0s - loss: 0.3841 - accuracy: 0.8268 - val_loss: 0.3369 - val_accuracy: 0.8462\n",
            "Epoch 183/200\n",
            "225/225 - 0s - loss: 0.3822 - accuracy: 0.8272 - val_loss: 0.3378 - val_accuracy: 0.8450\n",
            "Epoch 184/200\n",
            "225/225 - 0s - loss: 0.3804 - accuracy: 0.8297 - val_loss: 0.3380 - val_accuracy: 0.8475\n",
            "Epoch 185/200\n",
            "225/225 - 0s - loss: 0.3815 - accuracy: 0.8254 - val_loss: 0.3379 - val_accuracy: 0.8462\n",
            "Epoch 186/200\n",
            "225/225 - 0s - loss: 0.3822 - accuracy: 0.8246 - val_loss: 0.3379 - val_accuracy: 0.8475\n",
            "Epoch 187/200\n",
            "225/225 - 0s - loss: 0.3837 - accuracy: 0.8263 - val_loss: 0.3381 - val_accuracy: 0.8500\n",
            "Epoch 188/200\n",
            "225/225 - 0s - loss: 0.3789 - accuracy: 0.8263 - val_loss: 0.3382 - val_accuracy: 0.8500\n",
            "Epoch 189/200\n",
            "225/225 - 0s - loss: 0.3829 - accuracy: 0.8274 - val_loss: 0.3377 - val_accuracy: 0.8475\n",
            "Epoch 190/200\n",
            "225/225 - 0s - loss: 0.3764 - accuracy: 0.8251 - val_loss: 0.3382 - val_accuracy: 0.8487\n",
            "Epoch 191/200\n",
            "225/225 - 0s - loss: 0.3858 - accuracy: 0.8249 - val_loss: 0.3386 - val_accuracy: 0.8462\n",
            "Epoch 192/200\n",
            "225/225 - 0s - loss: 0.3775 - accuracy: 0.8301 - val_loss: 0.3379 - val_accuracy: 0.8475\n",
            "Epoch 193/200\n",
            "225/225 - 0s - loss: 0.3826 - accuracy: 0.8299 - val_loss: 0.3386 - val_accuracy: 0.8462\n",
            "Epoch 194/200\n",
            "225/225 - 0s - loss: 0.3811 - accuracy: 0.8296 - val_loss: 0.3386 - val_accuracy: 0.8475\n",
            "Epoch 195/200\n",
            "225/225 - 0s - loss: 0.3803 - accuracy: 0.8263 - val_loss: 0.3378 - val_accuracy: 0.8475\n",
            "Epoch 196/200\n",
            "225/225 - 0s - loss: 0.3828 - accuracy: 0.8253 - val_loss: 0.3390 - val_accuracy: 0.8438\n",
            "Epoch 197/200\n",
            "225/225 - 0s - loss: 0.3827 - accuracy: 0.8268 - val_loss: 0.3396 - val_accuracy: 0.8438\n",
            "Epoch 198/200\n",
            "225/225 - 0s - loss: 0.3785 - accuracy: 0.8292 - val_loss: 0.3389 - val_accuracy: 0.8475\n",
            "Epoch 199/200\n",
            "225/225 - 0s - loss: 0.3796 - accuracy: 0.8264 - val_loss: 0.3382 - val_accuracy: 0.8462\n",
            "Epoch 200/200\n",
            "225/225 - 0s - loss: 0.3834 - accuracy: 0.8269 - val_loss: 0.3389 - val_accuracy: 0.8475\n"
          ],
          "name": "stdout"
        }
      ]
    },
    {
      "cell_type": "markdown",
      "metadata": {
        "id": "T4jcjsecCA5n"
      },
      "source": [
        "## Testing the NN"
      ]
    },
    {
      "cell_type": "code",
      "metadata": {
        "colab": {
          "base_uri": "https://localhost:8080/",
          "height": 301
        },
        "id": "2xrmyUf9AyNG",
        "outputId": "6d0e7c6c-60dd-4123-b527-6bd1532facd5"
      },
      "source": [
        "plt.plot(np.array(history.history['accuracy']) * 100)\r\n",
        "plt.plot(np.array(history.history['val_accuracy']) * 100)\r\n",
        "plt.ylabel('accuracy')\r\n",
        "plt.xlabel('epochs')\r\n",
        "plt.legend(['train', 'validation'])\r\n",
        "plt.title('Accuracy over epochs')\r\n",
        "plt.show()"
      ],
      "execution_count": 30,
      "outputs": [
        {
          "output_type": "display_data",
          "data": {
            "image/png": "[encoded data removed]",
            "text/plain": [
              "<Figure size 432x288 with 1 Axes>"
            ]
          },
          "metadata": {
            "tags": []
          }
        }
      ]
    },
    {
      "cell_type": "code",
      "metadata": {
        "colab": {
          "base_uri": "https://localhost:8080/"
        },
        "id": "AZnis_ftCGRr",
        "outputId": "a4ebe877-294f-4724-c929-53a61e79c4f6"
      },
      "source": [
        "y_pred = classifier.predict(X_test)\r\n",
        "print(y_pred[:5])"
      ],
      "execution_count": 33,
      "outputs": [
        {
          "output_type": "stream",
          "text": [
            "[[0.32255864]\n",
            " [0.37977296]\n",
            " [0.21644095]\n",
            " [0.08747739]\n",
            " [0.08317208]]\n"
          ],
          "name": "stdout"
        }
      ]
    },
    {
      "cell_type": "code",
      "metadata": {
        "colab": {
          "base_uri": "https://localhost:8080/"
        },
        "id": "CBSTjF8WCGUg",
        "outputId": "258188b5-5d04-4c08-a84e-659abfecff16"
      },
      "source": [
        "y_pred = (y_pred > 0.5).astype(int)\r\n",
        "print(y_pred[:5])"
      ],
      "execution_count": 34,
      "outputs": [
        {
          "output_type": "stream",
          "text": [
            "[[0]\n",
            " [0]\n",
            " [0]\n",
            " [0]\n",
            " [0]]\n"
          ],
          "name": "stdout"
        }
      ]
    },
    {
      "cell_type": "code",
      "metadata": {
        "colab": {
          "base_uri": "https://localhost:8080/"
        },
        "id": "MBBqjii_CGXW",
        "outputId": "e17e55b0-da7d-4bd1-b380-6de87917e6ce"
      },
      "source": [
        "from sklearn.metrics import confusion_matrix\r\n",
        "cm = confusion_matrix(y_test, y_pred)\r\n",
        "print(cm)"
      ],
      "execution_count": 35,
      "outputs": [
        {
          "output_type": "stream",
          "text": [
            "[[1542   53]\n",
            " [ 268  137]]\n"
          ],
          "name": "stdout"
        }
      ]
    },
    {
      "cell_type": "code",
      "metadata": {
        "colab": {
          "base_uri": "https://localhost:8080/"
        },
        "id": "SqHLzLHNCGaa",
        "outputId": "58fc6cce-0809-4e1e-861f-55252109d164"
      },
      "source": [
        "print (((cm[0][0]+cm[1][1])*100)/(len(y_test)), '% of testing data was classified correctly')"
      ],
      "execution_count": 36,
      "outputs": [
        {
          "output_type": "stream",
          "text": [
            "83.95 % of testing data was classified correctly\n"
          ],
          "name": "stdout"
        }
      ]
    },
    {
      "cell_type": "code",
      "metadata": {
        "id": "E-JQtQYUCGdU"
      },
      "source": [
        "classifier.save(\"customer_exit_orNOT_bank.h5\")"
      ],
      "execution_count": 37,
      "outputs": []
    },
    {
      "cell_type": "code",
      "metadata": {
        "id": "1L1WKgdyCGgO"
      },
      "source": [
        ""
      ],
      "execution_count": null,
      "outputs": []
    }
  ]
}